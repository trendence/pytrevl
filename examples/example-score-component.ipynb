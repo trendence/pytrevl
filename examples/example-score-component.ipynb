{
 "cells": [
  {
   "cell_type": "markdown",
   "id": "532d2c1b-91c3-4acb-9d4e-a71b11e3d936",
   "metadata": {},
   "source": [
    "# Overview\n",
    "\n",
    "A simple notebook showing the basic functionality of `pytrevl`.\n",
    "\n",
    "## Instructions\n",
    "\n",
    "1. Set credentials in `.env` if using the docker-compose setup (before running `docker-compose --file contrib/docker-compose.yml up`!)\n",
    "2. Run all cells."
   ]
  },
  {
   "cell_type": "markdown",
   "id": "218fd96a-ad56-4095-a096-425f54e1a706",
   "metadata": {},
   "source": [
    "# Check connectivity to `x-middle` API"
   ]
  },
  {
   "cell_type": "code",
   "execution_count": 24,
   "id": "e3a61836-5798-4fe6-bd93-37ddb8c939a6",
   "metadata": {},
   "outputs": [],
   "source": [
    "import pytrevl.api"
   ]
  },
  {
   "cell_type": "code",
   "execution_count": 25,
   "id": "8e828cff-7b52-41a6-a527-90b22aacd050",
   "metadata": {},
   "outputs": [
    {
     "data": {
      "text/plain": [
       "{'chartVer1Service': {'exists': True},\n",
       " 'cubeService': {'exists': True, 'status': {'cubeApi': 'connected'}},\n",
       " 'dashboardVer1Service': {'exists': True}}"
      ]
     },
     "execution_count": 25,
     "metadata": {},
     "output_type": "execute_result"
    }
   ],
   "source": [
    "pytrevl.api.xmiddle().status()"
   ]
  },
  {
   "cell_type": "markdown",
   "id": "cc08677a-3938-4319-a230-27e4e11e8cc4",
   "metadata": {},
   "source": [
    "# Build a simple score component\n"
   ]
  },
  {
   "cell_type": "code",
   "execution_count": 26,
   "id": "7c5eef1d-69e0-4256-bddc-3188f986d06d",
   "metadata": {},
   "outputs": [],
   "source": [
    "from pytrevl import CubeQuery, ScoreComponent"
   ]
  },
  {
   "cell_type": "code",
   "execution_count": 27,
   "id": "d17fbd38-b380-46d6-9cac-f6c967f60281",
   "metadata": {},
   "outputs": [],
   "source": [
    "query = CubeQuery(\n",
    "    'hrmTsb',\n",
    "    [\"sumOfWeight\"],\n",
    ")\n",
    "score = ScoreComponent(\n",
    "    query,\n",
    "    id='example',\n",
    ")"
   ]
  },
  {
   "cell_type": "markdown",
   "id": "dfa9c3b5-cd86-48b6-92b2-5f192883d9a4",
   "metadata": {},
   "source": [
    "View the respective TREVL document encoded as YAML.\n",
    "Use `.as_json()` for JSON."
   ]
  },
  {
   "cell_type": "code",
   "execution_count": 28,
   "id": "9753dd12-449a-46c3-8f94-e388fe7174ae",
   "metadata": {},
   "outputs": [
    {
     "name": "stdout",
     "output_type": "stream",
     "text": [
      "display:\n",
      "  value: $hrmTsb.sumOfWeight\n",
      "id: example\n",
      "queries:\n",
      "- measures:\n",
      "  - hrmTsb.sumOfWeight\n",
      "type: score\n",
      "\n"
     ]
    }
   ],
   "source": [
    "print(score.as_yaml())"
   ]
  },
  {
   "cell_type": "markdown",
   "id": "707178e2-f1d5-431a-b21e-d03e816ac41f",
   "metadata": {},
   "source": [
    "Show a single chart."
   ]
  },
  {
   "cell_type": "code",
   "execution_count": 29,
   "id": "d0914f1b-22c4-4ec4-8ef3-c4ddb7cf877c",
   "metadata": {},
   "outputs": [
    {
     "data": {
      "text/html": [
       "\n",
       "<div>\n",
       "  <p>2790178.8 no-unit (rounded to no-digits)</p>\n",
       "  <p>no-text</p>\n",
       "</div>"
      ],
      "text/plain": [
       "<IPython.core.display.HTML object>"
      ]
     },
     "execution_count": 29,
     "metadata": {},
     "output_type": "execute_result"
    }
   ],
   "source": [
    "score.show()"
   ]
  },
  {
   "cell_type": "markdown",
   "id": "cbf8e98d-3732-4b61-b61e-e8815fe0130a",
   "metadata": {},
   "source": [
    "# Score component with units and rounding"
   ]
  },
  {
   "cell_type": "code",
   "execution_count": 30,
   "id": "59e27eab-fbd6-4a96-a948-0b2a0d808cb2",
   "metadata": {},
   "outputs": [
    {
     "data": {
      "text/html": [
       "\n",
       "<div>\n",
       "  <p>2790178.8 % (rounded to 3)</p>\n",
       "  <p>some info text</p>\n",
       "</div>"
      ],
      "text/plain": [
       "<IPython.core.display.HTML object>"
      ]
     },
     "execution_count": 30,
     "metadata": {},
     "output_type": "execute_result"
    }
   ],
   "source": [
    "adv_score = ScoreComponent(query, unit='%', digits=3, text='some info text')\n",
    "adv_score.show()"
   ]
  }
 ],
 "metadata": {
  "kernelspec": {
   "display_name": "Python 3 (ipykernel)",
   "language": "python",
   "name": "python3"
  },
  "language_info": {
   "codemirror_mode": {
    "name": "ipython",
    "version": 3
   },
   "file_extension": ".py",
   "mimetype": "text/x-python",
   "name": "python",
   "nbconvert_exporter": "python",
   "pygments_lexer": "ipython3",
   "version": "3.10.8"
  }
 },
 "nbformat": 4,
 "nbformat_minor": 5
}
